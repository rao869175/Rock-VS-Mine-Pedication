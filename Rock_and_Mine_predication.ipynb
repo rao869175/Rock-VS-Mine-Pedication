{
  "cells": [
    {
      "cell_type": "code",
      "execution_count": 1,
      "metadata": {},
      "outputs": [
        {
          "name": "stdout",
          "output_type": "stream",
          "text": [
            "Model Accuracy: 0.81\n"
          ]
        }
      ],
      "source": [
        "from xgboost import XGBClassifier\n",
        "from sklearn.model_selection import train_test_split\n",
        "from sklearn.preprocessing import LabelEncoder\n",
        "from sklearn.metrics import accuracy_score\n",
        "import pandas as pd\n",
        "\n",
        "# Sample dataset\n",
        "data = pd.read_csv(r\"C:\\Users\\Ic\\Desktop\\doploy\\Copy of sonar data (1).csv\")\n",
        "\n",
        "\n",
        "\n",
        "# Splitting features and target\n",
        "X = data.iloc[:, :-1]\n",
        "y = data.iloc[:, -1]\n",
        "\n",
        "# Encoding categorical labels\n",
        "label_encoder = LabelEncoder()\n",
        "y = label_encoder.fit_transform(y)  # Converts 'Rock' and 'Mine' to 0 and 1\n",
        "\n",
        "# Splitting dataset\n",
        "X_train, X_test, y_train, y_test = train_test_split(X, y, test_size=0.2, random_state=42)\n",
        "\n",
        "# Convert X_train to numeric\n",
        "X_train = X_train.astype(float)\n",
        "X_test = X_test.astype(float)\n",
        "\n",
        "# Ensure y_train is a 1D array\n",
        "y_train = y_train.ravel()\n",
        "\n",
        "# Check for missing values\n",
        "if X_train.isnull().sum().sum() > 0:\n",
        "    print(\"Missing values found!\")\n",
        "    X_train = X_train.dropna()\n",
        "\n",
        "# Defining and training XGBoost model\n",
        "model = XGBClassifier(objective='binary:logistic', eval_metric='logloss')\n",
        "model.fit(X_train, y_train)  # ✅ Should work without errors!\n",
        "\n",
        "# Making predictions\n",
        "y_pred = model.predict(X_test)\n",
        "\n",
        "# Checking accuracy\n",
        "accuracy = accuracy_score(y_test, y_pred)\n",
        "print(f\"Model Accuracy: {accuracy:.2f}\")\n",
        "\n",
        "import pickle\n",
        "\n",
        "# Save the trained model\n",
        "with open('rock and mine.pkl', 'wb') as file:\n",
        "    pickle.dump(model, file)\n",
        "import pickle\n",
        "\n",
        "# Load the saved model\n",
        "with open('rock and mine.pkl', 'rb') as file:\n",
        "    loaded_model = pickle.load(file)"
      ]
    }
  ],
  "metadata": {
    "accelerator": "GPU",
    "colab": {
      "gpuType": "T4",
      "provenance": []
    },
    "kernelspec": {
      "display_name": "Python 3",
      "name": "python3"
    },
    "language_info": {
      "codemirror_mode": {
        "name": "ipython",
        "version": 3
      },
      "file_extension": ".py",
      "mimetype": "text/x-python",
      "name": "python",
      "nbconvert_exporter": "python",
      "pygments_lexer": "ipython3",
      "version": "3.13.1"
    }
  },
  "nbformat": 4,
  "nbformat_minor": 0
}
